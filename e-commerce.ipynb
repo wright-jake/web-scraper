{
 "cells": [
  {
   "cell_type": "code",
   "execution_count": 1,
   "id": "6110f679",
   "metadata": {},
   "outputs": [],
   "source": [
    "import requests\n",
    "from bs4 import BeautifulSoup as soup\n",
    "import pandas as pd\n",
    "from pandas import DataFrame"
   ]
  },
  {
   "cell_type": "code",
   "execution_count": 2,
   "id": "b09a87f7",
   "metadata": {},
   "outputs": [],
   "source": [
    "url = \"https://webscraper.io/test-sites/e-commerce/allinone/computers/laptops\"\n",
    "result = requests.get(url)\n",
    "doc = soup(result.text, \"lxml\")\n",
    "items = doc.find_all('div', {'class': 'col-sm-4 col-lg-4 col-md-4'})\n",
    "data1 = []"
   ]
  },
  {
   "cell_type": "code",
   "execution_count": 4,
   "id": "1003ad76",
   "metadata": {},
   "outputs": [],
   "source": [
    "for item in items:\n",
    "    data1.append({\n",
    "        'product' : item.a['title'],\n",
    "        'price' : item.find('h4', {'class': 'pull-right price'}).string\n",
    "    })"
   ]
  },
  {
   "cell_type": "code",
   "execution_count": 5,
   "id": "a0984289",
   "metadata": {},
   "outputs": [],
   "source": [
    "df = pd.DataFrame(data=data1)"
   ]
  },
  {
   "cell_type": "code",
   "execution_count": 9,
   "id": "523767dc",
   "metadata": {},
   "outputs": [
    {
     "data": {
      "text/html": [
       "<div>\n",
       "<style scoped>\n",
       "    .dataframe tbody tr th:only-of-type {\n",
       "        vertical-align: middle;\n",
       "    }\n",
       "\n",
       "    .dataframe tbody tr th {\n",
       "        vertical-align: top;\n",
       "    }\n",
       "\n",
       "    .dataframe thead th {\n",
       "        text-align: right;\n",
       "    }\n",
       "</style>\n",
       "<table border=\"1\" class=\"dataframe\">\n",
       "  <thead>\n",
       "    <tr style=\"text-align: right;\">\n",
       "      <th></th>\n",
       "      <th>product</th>\n",
       "      <th>price</th>\n",
       "    </tr>\n",
       "  </thead>\n",
       "  <tbody>\n",
       "    <tr>\n",
       "      <th>0</th>\n",
       "      <td>Asus VivoBook X441NA-GA190</td>\n",
       "      <td>$295.99</td>\n",
       "    </tr>\n",
       "    <tr>\n",
       "      <th>1</th>\n",
       "      <td>Prestigio SmartBook 133S Dark Grey</td>\n",
       "      <td>$299.00</td>\n",
       "    </tr>\n",
       "    <tr>\n",
       "      <th>2</th>\n",
       "      <td>Prestigio SmartBook 133S Gold</td>\n",
       "      <td>$299.00</td>\n",
       "    </tr>\n",
       "    <tr>\n",
       "      <th>3</th>\n",
       "      <td>Aspire E1-510</td>\n",
       "      <td>$306.99</td>\n",
       "    </tr>\n",
       "    <tr>\n",
       "      <th>4</th>\n",
       "      <td>Lenovo V110-15IAP</td>\n",
       "      <td>$321.94</td>\n",
       "    </tr>\n",
       "    <tr>\n",
       "      <th>...</th>\n",
       "      <td>...</td>\n",
       "      <td>...</td>\n",
       "    </tr>\n",
       "    <tr>\n",
       "      <th>346</th>\n",
       "      <td>Lenovo Legion Y720</td>\n",
       "      <td>$1399.00</td>\n",
       "    </tr>\n",
       "    <tr>\n",
       "      <th>347</th>\n",
       "      <td>Asus ROG Strix GL702VM-GC146T</td>\n",
       "      <td>$1399.00</td>\n",
       "    </tr>\n",
       "    <tr>\n",
       "      <th>348</th>\n",
       "      <td>Asus ROG Strix GL702ZC-GC154T</td>\n",
       "      <td>$1769.00</td>\n",
       "    </tr>\n",
       "    <tr>\n",
       "      <th>349</th>\n",
       "      <td>Asus ROG Strix GL702ZC-GC209T</td>\n",
       "      <td>$1769.00</td>\n",
       "    </tr>\n",
       "    <tr>\n",
       "      <th>350</th>\n",
       "      <td>Asus ROG Strix SCAR Edition GL503VM-ED115T</td>\n",
       "      <td>$1799.00</td>\n",
       "    </tr>\n",
       "  </tbody>\n",
       "</table>\n",
       "<p>351 rows × 2 columns</p>\n",
       "</div>"
      ],
      "text/plain": [
       "                                        product     price\n",
       "0                    Asus VivoBook X441NA-GA190   $295.99\n",
       "1            Prestigio SmartBook 133S Dark Grey   $299.00\n",
       "2                 Prestigio SmartBook 133S Gold   $299.00\n",
       "3                                 Aspire E1-510   $306.99\n",
       "4                             Lenovo V110-15IAP   $321.94\n",
       "..                                          ...       ...\n",
       "346                          Lenovo Legion Y720  $1399.00\n",
       "347               Asus ROG Strix GL702VM-GC146T  $1399.00\n",
       "348               Asus ROG Strix GL702ZC-GC154T  $1769.00\n",
       "349               Asus ROG Strix GL702ZC-GC209T  $1769.00\n",
       "350  Asus ROG Strix SCAR Edition GL503VM-ED115T  $1799.00\n",
       "\n",
       "[351 rows x 2 columns]"
      ]
     },
     "execution_count": 9,
     "metadata": {},
     "output_type": "execute_result"
    }
   ],
   "source": [
    "df"
   ]
  },
  {
   "cell_type": "code",
   "execution_count": null,
   "id": "94c07713",
   "metadata": {},
   "outputs": [],
   "source": []
  },
  {
   "cell_type": "code",
   "execution_count": null,
   "id": "3e0e2f8a",
   "metadata": {},
   "outputs": [],
   "source": []
  },
  {
   "cell_type": "code",
   "execution_count": null,
   "id": "5fcf414b",
   "metadata": {},
   "outputs": [],
   "source": []
  }
 ],
 "metadata": {
  "kernelspec": {
   "display_name": "Python 3",
   "language": "python",
   "name": "python3"
  },
  "language_info": {
   "codemirror_mode": {
    "name": "ipython",
    "version": 3
   },
   "file_extension": ".py",
   "mimetype": "text/x-python",
   "name": "python",
   "nbconvert_exporter": "python",
   "pygments_lexer": "ipython3",
   "version": "3.8.8"
  }
 },
 "nbformat": 4,
 "nbformat_minor": 5
}
